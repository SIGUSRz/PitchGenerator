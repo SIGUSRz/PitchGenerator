{
 "cells": [
  {
   "cell_type": "code",
   "execution_count": 1,
   "metadata": {},
   "outputs": [],
   "source": [
    "# Pitch Recognition Forked From https://github.com/justinsalamon/audio_to_midi_melodia\n",
    "import os, sys\n",
    "import math\n",
    "import numpy as np\n",
    "import pretty_midi as midi\n",
    "from pylab import *\n",
    "import librosa             # The librosa library\n",
    "import librosa.display     # librosa's display module (for plotting features)\n",
    "import IPython.display     # IPython's display module (for in-line audio)\n",
    "import matplotlib.pyplot as plt # matplotlib plotting functions\n",
    "import matplotlib.style as ms   # plotting style\n",
    "import ipywidgets as widgets\n",
    "from ipywidgets import interact, interact_manual, fixed\n",
    "import pitch_rec\n",
    "from recorder import *"
   ]
  },
  {
   "cell_type": "code",
   "execution_count": 2,
   "metadata": {},
   "outputs": [
    {
     "data": {
      "application/vnd.jupyter.widget-view+json": {
       "model_id": "10a378658a934e93b91f534e0d5e6650",
       "version_major": 2,
       "version_minor": 0
      },
      "text/plain": [
       "interactive(children=(Button(description='Run Interact', style=ButtonStyle()), Output()), _dom_classes=('widge…"
      ]
     },
     "metadata": {},
     "output_type": "display_data"
    },
    {
     "data": {
      "text/plain": [
       "<function __main__.record()>"
      ]
     },
     "execution_count": 2,
     "metadata": {},
     "output_type": "execute_result"
    }
   ],
   "source": [
    "infile = \"sing.wav\"\n",
    "outfile = \"sing.mid\"\n",
    "def record():\n",
    "    recorder = Recorder(channels=2)\n",
    "    print(\"start recording\")\n",
    "    with recorder.open(infile, \"wb\") as audio_file:\n",
    "        audio_file.record(duration=15)\n",
    "    print(\"finish recording\")\n",
    "interact_manual(record)"
   ]
  },
  {
   "cell_type": "code",
   "execution_count": null,
   "metadata": {},
   "outputs": [],
   "source": [
    "y, sr = librosa.load(infile)\n",
    "sr = 44100\n",
    "bpm, beats = librosa.beat.beat_track(y=y, sr=sr)\n",
    "high_mapper = np.array([67, 69, 71, 72, 74, 76])\n",
    "male_mapper = np.array([60, 68, 67, 64, 62, 60])\n",
    "female_mapper = np.array([69, 62, 63, 60, 67, 69])"
   ]
  },
  {
   "cell_type": "code",
   "execution_count": null,
   "metadata": {},
   "outputs": [],
   "source": [
    "pitch_rec.audio_to_midi_melodia(infile, outfile, bpm, hop=128, smooth=0.1)"
   ]
  },
  {
   "cell_type": "code",
   "execution_count": null,
   "metadata": {},
   "outputs": [],
   "source": [
    "data = midi.PrettyMIDI(outfile)\n",
    "pitches = list(map(lambda x: x.pitch, data.instruments[0].notes))\n",
    "high_pitch = high_mapper[high_mapper <= max(pitches)]\n",
    "high_pitch = high_mapper[0] if len(high_pitch) == 0 else high_pitch[-1]\n",
    "idx = np.where(high_mapper == high_pitch)[0][0]\n",
    "tone = male_mapper[idx]\n",
    "def generate_midi(arr, inst_name):\n",
    "    arr = arr[np.argsort(arr[:,0]),:].tolist()\n",
    "    melody = midi.PrettyMIDI()\n",
    "    instrument = midi.Instrument(program=midi.instrument_name_to_program(inst_name))\n",
    "    instrument.notes = list(map(lambda x: midi.Note(start=x[0], end=x[1], pitch=int(x[2]), velocity=int(x[3])), arr))\n",
    "    melody.instruments.append(instrument)\n",
    "    return melody"
   ]
  },
  {
   "cell_type": "code",
   "execution_count": null,
   "metadata": {},
   "outputs": [],
   "source": [
    "def generate_first(pitch, sr=44100, am=-2.5, length=2.):\n",
    "    base = 440 * 2 **((pitch-69)/12)\n",
    "    F1 = base * 2**(-1/12)\n",
    "    F2 = F1 * 2**(-3/12)\n",
    "    F3 = F2 * 2**(7/12)\n",
    "    F4 = F3 * 2**(-5/12)\n",
    "    c1 = [sin(2 * pi * F1 * n) * exp(am * n) for n in np.arange(0., length, 1. / sr)] \n",
    "    c2 = [sin(2 * pi * F2 * n) * exp(am * n) for n in np.arange(0., length, 1. / sr)]\n",
    "    c3 = [sin(2 * pi * F3 * n) * exp(am * n) for n in np.arange(0., length, 1. / sr)]\n",
    "    c4 = [sin(2 * pi * F4 * n) * exp(am * n) for n in np.arange(0., length, 1. / sr)]\n",
    "    return c1+c2+c3+c4+c1+c2+c3+c4\n",
    "prog = np.array(generate_first(tone, sr))\n",
    "IPython.display.Audio(data=prog, rate=sr) # press the \"play\" button to hear audio\n",
    "librosa.output.write_wav('test.wav', prog, sr)"
   ]
  },
  {
   "cell_type": "code",
   "execution_count": null,
   "metadata": {},
   "outputs": [],
   "source": [
    "#Am F C G\n",
    "def generate_third(tone, t):\n",
    "    chord1 = [tone + 9, tone + 4, tone, tone - 3, tone - 15]\n",
    "    chord2 = [tone + 9, tone + 5, tone, tone - 7, tone - 19]\n",
    "    chord3 = [tone + 7, tone + 4, tone, tone - 5, tone - 12]\n",
    "    chord4 = [tone + 7, tone + 2, tone - 1, tone - 5, tone - 17]\n",
    "    chord = [chord1, chord1, chord2, chord2, chord3, chord3, chord4, chord4] * 2\n",
    "    chord = np.array(chord, dtype=np.int).flatten()\n",
    "    length = chord.shape[0]\n",
    "    notes = np.zeros((length, 4))\n",
    "    notes[:, 2] = chord\n",
    "    notes[:, 3] = 100\n",
    "    notes[:, 0] = np.arange(0, length * t, t)\n",
    "    notes[:, 1] = np.arange(t, (length + 1) * t, t)\n",
    "    return notes\n",
    "notes = generate_third(tone, 1)\n",
    "melody = generate_midi(notes, \"Lead 6 (voice)\")\n",
    "melody.write(\"third.mid\")\n",
    "IPython.display.Audio(data=melody.instruments[0].synthesize(fs=sr), rate=sr)"
   ]
  },
  {
   "cell_type": "code",
   "execution_count": null,
   "metadata": {},
   "outputs": [],
   "source": [
    "def generate_fourth(tone, t):\n",
    "    chord1 = [tone-15, tone+7, tone+2, tone, tone+7, tone+2, tone,tone+2, tone, tone-8, tone+7, tone+2, tone]\n",
    "    chord2 = [tone-19, tone+7, tone+2, tone, tone+7, tone+2, tone,tone+2, tone, tone-12, tone+7, tone+2, tone]\n",
    "    chord3 = [tone-12, tone+7, tone+2, tone, tone+7, tone+2, tone,tone+2, tone, tone-5, tone+7, tone+2, tone]\n",
    "    chord4 = [tone-17, tone+7, tone+2, tone-1, tone+7, tone+2, tone-1,tone+2, tone-1, tone-5,tone+7, tone+2, tone-1]\n",
    "    chord = [chord1, chord2, chord3, chord4]\n",
    "    col_len = len(chord)\n",
    "    row_len = len(chord[0])\n",
    "    chord = np.array(chord, dtype=np.int).flatten()\n",
    "    length = chord.shape[0]\n",
    "    notes = np.zeros((length, 4))\n",
    "    notes[:, 2] = chord\n",
    "    notes[:, 3] = 100\n",
    "    timeline = {\n",
    "        0: [0, 2],\n",
    "        1: [1, 1 + 0.75],\n",
    "        2: [1, 1 + 0.75],\n",
    "        3: [1, 1 + 0.75],\n",
    "        4: [1 + 0.75, 2.25],\n",
    "        5: [1 + 0.75, 2.25],\n",
    "        6: [1 + 0.75, 2.25],\n",
    "        7: [2 + 0.25, 3],\n",
    "        8: [2 + 0.25, 3],\n",
    "        9: [2.5, 4.25],\n",
    "        10: [3, 4],\n",
    "        11: [3, 4],\n",
    "        12: [3, 4]\n",
    "    }\n",
    "    line = np.arange(length).tolist()\n",
    "    line = list(map(lambda x: [4 * (x // row_len) + i for i in timeline[x % row_len]], line))\n",
    "    line = np.array(line) * 0.75\n",
    "    notes[:, [0, 1]] = line\n",
    "    return notes\n",
    "notes = generate_fourth(tone, 1)\n",
    "melody = generate_midi(notes, \"Acoustic Guitar (Nylon)\")\n",
    "melody.write(\"fourth.mid\")\n",
    "IPython.display.Audio(data=melody.instruments[0].synthesize(fs=sr), rate=sr)"
   ]
  },
  {
   "cell_type": "code",
   "execution_count": null,
   "metadata": {},
   "outputs": [],
   "source": []
  },
  {
   "cell_type": "code",
   "execution_count": null,
   "metadata": {},
   "outputs": [],
   "source": []
  }
 ],
 "metadata": {
  "kernelspec": {
   "display_name": "Python 3",
   "language": "python",
   "name": "python3"
  },
  "language_info": {
   "codemirror_mode": {
    "name": "ipython",
    "version": 3
   },
   "file_extension": ".py",
   "mimetype": "text/x-python",
   "name": "python",
   "nbconvert_exporter": "python",
   "pygments_lexer": "ipython3",
   "version": "3.6.2"
  }
 },
 "nbformat": 4,
 "nbformat_minor": 2
}
