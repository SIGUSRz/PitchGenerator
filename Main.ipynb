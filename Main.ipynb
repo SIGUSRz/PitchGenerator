{
 "cells": [
  {
   "cell_type": "code",
   "execution_count": 2,
   "metadata": {},
   "outputs": [],
   "source": [
    "# Pitch Recognition Forked From https://github.com/justinsalamon/audio_to_midi_melodia\n",
    "import librosa\n",
    "import vamp\n",
    "import argparse\n",
    "import os\n",
    "import numpy as np\n",
    "from midiutil.MidiFile import MIDIFile\n",
    "from scipy.signal import medfilt\n",
    "import jams"
   ]
  },
  {
   "cell_type": "code",
   "execution_count": null,
   "metadata": {},
   "outputs": [],
   "source": []
  }
 ],
 "metadata": {
  "kernelspec": {
   "display_name": "Python 3",
   "language": "python",
   "name": "python3"
  },
  "language_info": {
   "codemirror_mode": {
    "name": "ipython",
    "version": 3
   },
   "file_extension": ".py",
   "mimetype": "text/x-python",
   "name": "python",
   "nbconvert_exporter": "python",
   "pygments_lexer": "ipython3",
   "version": "3.6.2"
  }
 },
 "nbformat": 4,
 "nbformat_minor": 2
}
