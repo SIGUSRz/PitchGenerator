{
 "cells": [
  {
   "cell_type": "code",
   "execution_count": 1,
   "metadata": {},
   "outputs": [],
   "source": [
    "# Pitch Recognition Forked From https://github.com/justinsalamon/audio_to_midi_melodia\n",
    "import os\n",
    "import math\n",
    "import numpy as np\n",
    "import pretty_midi as midi\n",
    "from pylab import *\n",
    "import librosa             # The librosa library\n",
    "import librosa.display     # librosa's display module (for plotting features)\n",
    "import IPython.display     # IPython's display module (for in-line audio)\n",
    "import matplotlib.pyplot as plt # matplotlib plotting functions\n",
    "import matplotlib.style as ms   # plotting style\n",
    "import pitch_rec"
   ]
  },
  {
   "cell_type": "code",
   "execution_count": 2,
   "metadata": {},
   "outputs": [],
   "source": [
    "infile = \"test2.mp3\"\n",
    "outfile = \"melody.mid\"\n",
    "bpm = 120\n",
    "high_mapper = np.array([67, 69, 71, 72, 74, 76])\n",
    "male_mapper = np.array([60, 68, 67, 64, 62, 60])\n",
    "female_mapper = np.array([69, 62, 63, 60, 67, 69])"
   ]
  },
  {
   "cell_type": "code",
   "execution_count": 3,
   "metadata": {},
   "outputs": [
    {
     "name": "stdout",
     "output_type": "stream",
     "text": [
      "Loading audio...\n",
      "Extracting melody f0 with MELODIA...\n",
      "Converting Hz to MIDI notes...\n",
      "Saving MIDI to disk...\n",
      "Conversion complete.\n"
     ]
    }
   ],
   "source": [
    "pitch_rec.audio_to_midi_melodia(infile, outfile, bpm, hop=128, smooth=0.1)"
   ]
  },
  {
   "cell_type": "code",
   "execution_count": 4,
   "metadata": {},
   "outputs": [],
   "source": [
    "data = midi.PrettyMIDI(\"./melody.mid\")\n",
    "pitches = list(map(lambda x: x.pitch, data.instruments[0].notes))\n",
    "high_pitch = high_mapper[high_mapper <= max(pitches)]\n",
    "high_pitch = high_mapper[0] if len(high_pitch) == 0 else high_pitch[-1]\n",
    "idx = np.where(high_mapper == high_pitch)[0][0]\n",
    "pitch = male_mapper[idx]\n",
    "pitch = 67"
   ]
  },
  {
   "cell_type": "code",
   "execution_count": 5,
   "metadata": {},
   "outputs": [],
   "source": [
    "def generate_wave(pitch, sr=44100, am=-2.5, length=2.):\n",
    "    base = 440 * 2 **((pitch-69)/12)\n",
    "    F1 = base * 2**(-1/12)\n",
    "    F2 = F1 * 2**(-3/12)\n",
    "    F3 = F2 * 2**(7/12)\n",
    "    F4 = F3 * 2**(-5/12)\n",
    "    c1 = [sin(2 * pi * F1 * n) * exp(am * n) for n in np.arange(0., length, 1. / sr)] \n",
    "    c2 = [sin(2 * pi * F2 * n) * exp(am * n) for n in np.arange(0., length, 1. / sr)]\n",
    "    c3 = [sin(2 * pi * F3 * n) * exp(am * n) for n in np.arange(0., length, 1. / sr)]\n",
    "    c4 = [sin(2 * pi * F4 * n) * exp(am * n) for n in np.arange(0., length, 1. / sr)]\n",
    "    return c1+c2+c3+c4+c1+c2+c3+c4\n",
    "sr = 44100\n",
    "prog = np.array(generate_wave(pitch, sr))\n",
    "IPython.display.Audio(data=prog, rate=sr) # press the \"play\" button to hear audio\n",
    "librosa.output.write_wav('test.wav', prog, sr)"
   ]
  }
 ],
 "metadata": {
  "kernelspec": {
   "display_name": "Python 3",
   "language": "python",
   "name": "python3"
  },
  "language_info": {
   "codemirror_mode": {
    "name": "ipython",
    "version": 3
   },
   "file_extension": ".py",
   "mimetype": "text/x-python",
   "name": "python",
   "nbconvert_exporter": "python",
   "pygments_lexer": "ipython3",
   "version": "3.6.2"
  }
 },
 "nbformat": 4,
 "nbformat_minor": 2
}
