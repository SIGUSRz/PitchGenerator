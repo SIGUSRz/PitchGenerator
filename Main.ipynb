{
 "cells": [
  {
   "cell_type": "code",
   "execution_count": 1,
   "metadata": {},
   "outputs": [],
   "source": [
    "# Pitch Recognition Forked From https://github.com/justinsalamon/audio_to_midi_melodia\n",
    "import os\n",
    "import numpy as np\n",
    "import pretty_midi as midi\n",
    "import pitch_rec"
   ]
  },
  {
   "cell_type": "code",
   "execution_count": 2,
   "metadata": {},
   "outputs": [],
   "source": [
    "infile = \"testo.mp3\"\n",
    "outfile = \"melody.mid\"\n",
    "bpm = 120\n",
    "high_mapper = np.array([67, 69, 71, 72, 74, 76])\n",
    "male_mapper = np.array([60, 68, 67, 64, 62, 60])\n",
    "female_mapper = np.array([69, 62, 63, 60, 67, 69])"
   ]
  },
  {
   "cell_type": "code",
   "execution_count": 3,
   "metadata": {},
   "outputs": [
    {
     "name": "stdout",
     "output_type": "stream",
     "text": [
      "Loading audio...\n",
      "Extracting melody f0 with MELODIA...\n",
      "Converting Hz to MIDI notes...\n",
      "Saving MIDI to disk...\n",
      "Conversion complete.\n"
     ]
    }
   ],
   "source": [
    "pitch_rec.audio_to_midi_melodia(infile, outfile, bpm, hop=128, smooth=0.1)"
   ]
  },
  {
   "cell_type": "code",
   "execution_count": 4,
   "metadata": {},
   "outputs": [
    {
     "name": "stdout",
     "output_type": "stream",
     "text": [
      "60\n"
     ]
    }
   ],
   "source": [
    "data = midi.PrettyMIDI(\"./melody.mid\")\n",
    "pitches = list(map(lambda x: x.pitch, data.instruments[0].notes))\n",
    "high_pitch = high_mapper[high_mapper <= max(pitches)][-1]\n",
    "idx = np.where(high_mapper == high_pitch)[0][0]\n",
    "pitch = female_mapper[idx]\n",
    "print(pitch)"
   ]
  },
  {
   "cell_type": "code",
   "execution_count": null,
   "metadata": {},
   "outputs": [],
   "source": []
  }
 ],
 "metadata": {
  "kernelspec": {
   "display_name": "Python 3",
   "language": "python",
   "name": "python3"
  },
  "language_info": {
   "codemirror_mode": {
    "name": "ipython",
    "version": 3
   },
   "file_extension": ".py",
   "mimetype": "text/x-python",
   "name": "python",
   "nbconvert_exporter": "python",
   "pygments_lexer": "ipython3",
   "version": "3.6.2"
  }
 },
 "nbformat": 4,
 "nbformat_minor": 2
}
